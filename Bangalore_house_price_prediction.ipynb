{
 "cells": [
  {
   "cell_type": "markdown",
   "metadata": {},
   "source": [
    "# Project Description\n",
    "**PROBLEM STATEMENT -**\n",
    "To predict the prices of houses in bangalore, using attributes of a house and attributes of the locality of the house.\n",
    "\n",
    "**Data Source -**\n",
    "1. from kaggle - https://www.kaggle.com/amitabhajoy/bengaluru-house-price-data\n",
    "2. utilising FourSquare to get the locality data.\n",
    "\n",
    "**Goal of the project -**\n",
    "To model the prediction of housing prices in Bangalore, and come up with the key drivers."
   ]
  },
  {
   "cell_type": "markdown",
   "metadata": {},
   "source": [
    "**Okay so prima facie, lets import some of the libraries we will be needing for this project.**  \n",
    "(even if we are missing out on some library, we can always import it later on in the project.)"
   ]
  },
  {
   "cell_type": "code",
   "execution_count": 18,
   "metadata": {},
   "outputs": [
    {
     "name": "stdout",
     "output_type": "stream",
     "text": [
      "Matplotlib version:  2.2.3\n"
     ]
    }
   ],
   "source": [
    "import sys\n",
    "\n",
    "# library to handle vectorized data \n",
    "import numpy as np \n",
    "# library for data analsysis and manupulation\n",
    "import pandas as pd \n",
    "pd.set_option('display.max_columns', 1000) #don't think that there will be more than a 1000 of those describing an apartment!!\n",
    "pd.set_option('display.max_rows', 100000)\n",
    "\n",
    "# for stats visualisation\n",
    "import seaborn as sns\n",
    "\n",
    "%matplotlib inline \n",
    "import matplotlib as mpl\n",
    "import matplotlib.pyplot as plt\n",
    "# check for latest version of Matplotlib\n",
    "print ('Matplotlib version: ', mpl.__version__) # >= 2.0.0\n",
    "\n",
    "# folium for data visualisation of maps\n",
    "import folium\n",
    "\n",
    "# geopy for getting the geographical latitudes and longitudes of a location\n",
    "import geopy\n",
    "# Now lets import 'Nominatim' from geopy to convert an address into latitude and longitude values.\n",
    "from geopy.geocoders import Nominatim\n",
    "\n",
    "# importing json to handle json files as we are expecting the file type from Foursquare to be json\n",
    "import json\n",
    "\n",
    "import csv"
   ]
  },
  {
   "cell_type": "markdown",
   "metadata": {},
   "source": [
    "# Loading the data\n",
    "Source = https://www.kaggle.com/amitabhajoy/bengaluru-house-price-data"
   ]
  },
  {
   "cell_type": "code",
   "execution_count": 19,
   "metadata": {},
   "outputs": [
    {
     "data": {
      "text/html": [
       "<div>\n",
       "<style scoped>\n",
       "    .dataframe tbody tr th:only-of-type {\n",
       "        vertical-align: middle;\n",
       "    }\n",
       "\n",
       "    .dataframe tbody tr th {\n",
       "        vertical-align: top;\n",
       "    }\n",
       "\n",
       "    .dataframe thead th {\n",
       "        text-align: right;\n",
       "    }\n",
       "</style>\n",
       "<table border=\"1\" class=\"dataframe\">\n",
       "  <thead>\n",
       "    <tr style=\"text-align: right;\">\n",
       "      <th></th>\n",
       "      <th>area_type</th>\n",
       "      <th>availability</th>\n",
       "      <th>location</th>\n",
       "      <th>size</th>\n",
       "      <th>society</th>\n",
       "      <th>total_sqft</th>\n",
       "      <th>bath</th>\n",
       "      <th>balcony</th>\n",
       "      <th>price</th>\n",
       "    </tr>\n",
       "  </thead>\n",
       "  <tbody>\n",
       "    <tr>\n",
       "      <th>0</th>\n",
       "      <td>Super built-up  Area</td>\n",
       "      <td>19-Dec</td>\n",
       "      <td>Electronic City Phase II</td>\n",
       "      <td>2 BHK</td>\n",
       "      <td>Coomee</td>\n",
       "      <td>1056</td>\n",
       "      <td>2.0</td>\n",
       "      <td>1.0</td>\n",
       "      <td>39.07</td>\n",
       "    </tr>\n",
       "    <tr>\n",
       "      <th>1</th>\n",
       "      <td>Plot  Area</td>\n",
       "      <td>Ready To Move</td>\n",
       "      <td>Chikka Tirupathi</td>\n",
       "      <td>4 Bedroom</td>\n",
       "      <td>Theanmp</td>\n",
       "      <td>2600</td>\n",
       "      <td>5.0</td>\n",
       "      <td>3.0</td>\n",
       "      <td>120.00</td>\n",
       "    </tr>\n",
       "    <tr>\n",
       "      <th>2</th>\n",
       "      <td>Built-up  Area</td>\n",
       "      <td>Ready To Move</td>\n",
       "      <td>Uttarahalli</td>\n",
       "      <td>3 BHK</td>\n",
       "      <td>NaN</td>\n",
       "      <td>1440</td>\n",
       "      <td>2.0</td>\n",
       "      <td>3.0</td>\n",
       "      <td>62.00</td>\n",
       "    </tr>\n",
       "    <tr>\n",
       "      <th>3</th>\n",
       "      <td>Super built-up  Area</td>\n",
       "      <td>Ready To Move</td>\n",
       "      <td>Lingadheeranahalli</td>\n",
       "      <td>3 BHK</td>\n",
       "      <td>Soiewre</td>\n",
       "      <td>1521</td>\n",
       "      <td>3.0</td>\n",
       "      <td>1.0</td>\n",
       "      <td>95.00</td>\n",
       "    </tr>\n",
       "    <tr>\n",
       "      <th>4</th>\n",
       "      <td>Super built-up  Area</td>\n",
       "      <td>Ready To Move</td>\n",
       "      <td>Kothanur</td>\n",
       "      <td>2 BHK</td>\n",
       "      <td>NaN</td>\n",
       "      <td>1200</td>\n",
       "      <td>2.0</td>\n",
       "      <td>1.0</td>\n",
       "      <td>51.00</td>\n",
       "    </tr>\n",
       "  </tbody>\n",
       "</table>\n",
       "</div>"
      ],
      "text/plain": [
       "              area_type   availability                  location       size  \\\n",
       "0  Super built-up  Area         19-Dec  Electronic City Phase II      2 BHK   \n",
       "1            Plot  Area  Ready To Move          Chikka Tirupathi  4 Bedroom   \n",
       "2        Built-up  Area  Ready To Move               Uttarahalli      3 BHK   \n",
       "3  Super built-up  Area  Ready To Move        Lingadheeranahalli      3 BHK   \n",
       "4  Super built-up  Area  Ready To Move                  Kothanur      2 BHK   \n",
       "\n",
       "   society total_sqft  bath  balcony   price  \n",
       "0  Coomee        1056   2.0      1.0   39.07  \n",
       "1  Theanmp       2600   5.0      3.0  120.00  \n",
       "2      NaN       1440   2.0      3.0   62.00  \n",
       "3  Soiewre       1521   3.0      1.0   95.00  \n",
       "4      NaN       1200   2.0      1.0   51.00  "
      ]
     },
     "execution_count": 19,
     "metadata": {},
     "output_type": "execute_result"
    }
   ],
   "source": [
    "data = pd.read_csv('Bengaluru_House_Data.csv')\n",
    "data.head()"
   ]
  },
  {
   "cell_type": "markdown",
   "metadata": {},
   "source": [
    "**let's check the features of our dataset.**"
   ]
  },
  {
   "cell_type": "code",
   "execution_count": 20,
   "metadata": {},
   "outputs": [
    {
     "data": {
      "text/plain": [
       "Index(['area_type', 'availability', 'location', 'size', 'society',\n",
       "       'total_sqft', 'bath', 'balcony', 'price'],\n",
       "      dtype='object')"
      ]
     },
     "execution_count": 20,
     "metadata": {},
     "output_type": "execute_result"
    }
   ],
   "source": [
    "data.columns"
   ]
  },
  {
   "cell_type": "markdown",
   "metadata": {},
   "source": [
    "**okay so we have 9 total features in our dataset (including the TARGET feature); they are:**\n",
    "    1. area_type : type of area mentioned in the unit\n",
    "    2. availability : construction status of the unit\n",
    "    3. location : locality of unit in Bangalore\n",
    "    4. size : unit type in terms of no.of BHK(s)\n",
    "    5. society : name of the society of the unit\n",
    "    6. total_sqft : total squared feet of the unit\n",
    "    7. bath : number of washrooms in the unit\n",
    "    8. balcony : number of balcony(s) in the unit\n",
    "    9. price : price of the unit"
   ]
  },
  {
   "cell_type": "markdown",
   "metadata": {},
   "source": [
    "# Data cleaning  \n",
    "**Okay let's take a look at the data type of the features.**"
   ]
  },
  {
   "cell_type": "code",
   "execution_count": 21,
   "metadata": {},
   "outputs": [
    {
     "data": {
      "text/plain": [
       "area_type        object\n",
       "availability     object\n",
       "location         object\n",
       "size             object\n",
       "society          object\n",
       "total_sqft       object\n",
       "bath            float64\n",
       "balcony         float64\n",
       "price           float64\n",
       "dtype: object"
      ]
     },
     "execution_count": 21,
     "metadata": {},
     "output_type": "execute_result"
    }
   ],
   "source": [
    "data.dtypes"
   ]
  },
  {
   "cell_type": "markdown",
   "metadata": {},
   "source": [
    "**so we have some categorical features and some numerical features in our data.**  \n",
    "**The categorical features are as follows :**  \n",
    "    1. area_type\n",
    "    2. availability\n",
    "    3. location\n",
    "    4. size\n",
    "    5. society\n",
    "**The numerical continous features are as follows :**\n",
    "    1. bath\n",
    "    2. balcony\n",
    "    3. price\n",
    "**The only feature which has a data type out of the odinary is the <b>'total_sqft'</b>, which needs to be changed to the data type of float64; so let's explore the same.**"
   ]
  },
  {
   "cell_type": "code",
   "execution_count": 22,
   "metadata": {
    "scrolled": true
   },
   "outputs": [
    {
     "data": {
      "text/plain": [
       "array(['1056', '2600', '1440', ..., '1133 - 1384', '774', '4689'],\n",
       "      dtype=object)"
      ]
     },
     "execution_count": 22,
     "metadata": {},
     "output_type": "execute_result"
    }
   ],
   "source": [
    "# to see what kind of values are present in the feature 'total_sqft'\n",
    "(data['total_sqft'].unique())"
   ]
  },
  {
   "cell_type": "markdown",
   "metadata": {},
   "source": [
    "**okay so we can see that there are different kinds of values present in our feature of interest presently.**  \n",
    "**So let's do further data cleaning.**"
   ]
  },
  {
   "cell_type": "code",
   "execution_count": 23,
   "metadata": {},
   "outputs": [
    {
     "name": "stdout",
     "output_type": "stream",
     "text": [
      "2100 - 2850\n",
      "3010 - 3410\n",
      "2957 - 3450\n",
      "3067 - 8156\n",
      "1042 - 1105\n",
      "1145 - 1340\n",
      "1015 - 1540\n",
      "1520 - 1740\n",
      "34.46Sq. Meter\n",
      "1195 - 1440\n",
      "1200 - 2400\n",
      "4125Perch\n",
      "1120 - 1145\n",
      "4400 - 6640\n",
      "3090 - 5002\n",
      "4400 - 6800\n",
      "1160 - 1195\n",
      "1000Sq. Meter\n",
      "4000 - 5249\n",
      "1115 - 1130\n",
      "1100Sq. Yards\n",
      "520 - 645\n",
      "1000 - 1285\n",
      "3606 - 5091\n",
      "650 - 665\n",
      "633 - 666\n",
      "5.31Acres\n",
      "30Acres\n",
      "1445 - 1455\n",
      "884 - 1116\n",
      "850 - 1093\n",
      "1440 - 1884\n",
      "716Sq. Meter\n",
      "547.34 - 827.31\n",
      "580 - 650\n",
      "3425 - 3435\n",
      "1804 - 2273\n",
      "3630 - 3800\n",
      "660 - 670\n",
      "4000 - 5249\n",
      "1500Sq. Meter\n",
      "620 - 933\n",
      "142.61Sq. Meter\n",
      "2695 - 2940\n",
      "2000 - 5634\n",
      "1574Sq. Yards\n",
      "3450 - 3472\n",
      "1250 - 1305\n",
      "670 - 980\n",
      "1005.03 - 1252.49\n",
      "3630 - 3800\n",
      "1004 - 1204\n",
      "361.33Sq. Yards\n",
      "645 - 936\n",
      "2710 - 3360\n",
      "2249.81 - 4112.19\n",
      "3436 - 3643\n",
      "2830 - 2882\n",
      "596 - 804\n",
      "1255 - 1863\n",
      "1300 - 1405\n",
      "1200 - 2400\n",
      "1500 - 2400\n",
      "117Sq. Yards\n",
      "934 - 1437\n",
      "980 - 1030\n",
      "1564 - 1850\n",
      "1446 - 1506\n",
      "2249.81 - 4112.19\n",
      "1070 - 1315\n",
      "3040Sq. Meter\n",
      "500Sq. Yards\n",
      "2806 - 3019\n",
      "613 - 648\n",
      "1430 - 1630\n",
      "704 - 730\n",
      "1482 - 1846\n",
      "2805 - 3565\n",
      "3293 - 5314\n",
      "1210 - 1477\n",
      "3369 - 3464\n",
      "1125 - 1500\n",
      "167Sq. Meter\n",
      "1076 - 1199\n",
      "381 - 535\n",
      "2215 - 2475\n",
      "524 - 894\n",
      "540 - 670\n",
      "315Sq. Yards\n",
      "1650 - 2538\n",
      "2725 - 3250\n",
      "1974 - 2171\n",
      "888 - 1290\n",
      "1360 - 1890\n",
      "2466 - 2856\n",
      "660 - 700\n",
      "385 - 440\n",
      "2100 - 5405\n",
      "770 - 841\n",
      "524 - 894\n",
      "3Cents\n",
      "1310 - 1615\n",
      "1782 - 2000\n",
      "188.89Sq. Yards\n",
      "1469 - 1766\n",
      "204Sq. Meter\n",
      "1255 - 1350\n",
      "870 - 1080\n",
      "45Sq. Yards\n",
      "133.3Sq. Yards\n",
      "2580 - 2591\n",
      "613 - 648\n",
      "2563 - 2733\n",
      "605 - 624\n",
      "4260 - 4408\n",
      "1349 - 3324\n",
      "78.03Sq. Meter\n",
      "1255 - 1350\n",
      "3300 - 3335\n",
      "1180 - 1630\n",
      "1365 - 1700\n",
      "3500 - 3600\n",
      "122Sq. Yards\n",
      "2830 - 2882\n",
      "84.53Sq. Meter\n",
      "2.09Acres\n",
      "2830 - 2882\n",
      "1482 - 1684\n",
      "981 - 1249\n",
      "1100 - 1225\n",
      "1565 - 1595\n",
      "24Guntha\n",
      "1270 - 1275\n",
      "840 - 1010\n",
      "697Sq. Meter\n",
      "2830 - 2882\n",
      "655 - 742\n",
      "800 - 2660\n",
      "1408 - 1455\n",
      "4050 - 4075\n",
      "942 - 1117\n",
      "1750 - 2640\n",
      "142.61Sq. Meter\n",
      "1390 - 1600\n",
      "598 - 958\n",
      "1500Cents\n",
      "132Sq. Yards\n",
      "1010 - 1300\n",
      "2Acres\n",
      "3103 - 3890\n",
      "1450 - 1950\n",
      "1100Sq. Meter\n",
      "15Acres\n",
      "1450 - 1595\n",
      "763 - 805\n",
      "3307 - 3464\n",
      "1.26Acres\n",
      "620 - 934\n",
      "2462 - 2467\n",
      "540 - 740\n",
      "1618 - 1929\n",
      "3508 - 4201\n",
      "2249.81 - 4112.19\n",
      "4900 - 4940\n",
      "1610 - 1880\n",
      "755 - 770\n",
      "664 - 722\n",
      "151.11Sq. Yards\n",
      "700 - 900\n",
      "596 - 861\n",
      "1925 - 2680\n",
      "615 - 985\n",
      "1200 - 2400\n",
      "540 - 565\n",
      "1390 - 1600\n",
      "750 - 800\n",
      "1660 - 1805\n",
      "1365 - 1700\n",
      "1410 - 1710\n",
      "1079 - 1183\n",
      "2800 - 2870\n",
      "1230 - 1290\n",
      "943 - 1220\n",
      "2041 - 2090\n",
      "527 - 639\n",
      "645 - 936\n",
      "1Grounds\n",
      "1160 - 1315\n",
      "706 - 716\n",
      "2940Sq. Yards\n",
      "1791 - 4000\n",
      "45.06Sq. Meter\n",
      "799 - 803\n",
      "2470 - 2790\n",
      "783 - 943\n",
      "4500 - 5540\n",
      "1255 - 1375\n",
      "1430 - 1630\n",
      "610 - 615\n",
      "854 - 960\n",
      "2650 - 2990\n",
      "1.25Acres\n",
      "86.72Sq. Meter\n",
      "381 - 535\n",
      "1230 - 1490\n",
      "3630 - 3800\n",
      "660 - 780\n",
      "1618 - 1929\n",
      "1150 - 1194\n",
      "684 - 810\n",
      "1200 - 1800\n",
      "1510 - 1670\n",
      "1550 - 1590\n",
      "1235 - 1410\n",
      "3484 - 3550\n",
      "38Guntha\n",
      "929 - 1078\n",
      "2150 - 2225\n",
      "1520 - 1759\n",
      "2580 - 2591\n",
      "629 - 1026\n",
      "1215 - 1495\n",
      "6Acres\n",
      "1140 - 1250\n",
      "2400 - 2600\n",
      "1052 - 1322\n",
      "5666 - 5669\n",
      "620 - 934\n",
      "712 - 938\n",
      "1783 - 1878\n",
      "120Sq. Yards\n",
      "24Sq. Meter\n",
      "2528 - 3188\n",
      "650 - 760\n",
      "1400 - 1421\n",
      "4000 - 4450\n",
      "142.84Sq. Meter\n",
      "300Sq. Yards\n",
      "1115 - 1130\n",
      "2204 - 2362\n",
      "1437 - 1629\n",
      "850 - 1060\n",
      "1804 - 2273\n",
      "1200 - 1470\n",
      "1020 - 1130\n",
      "1133 - 1384\n",
      "2830 - 2882\n"
     ]
    }
   ],
   "source": [
    "# a function to return False if the value in our feature 'total_sqft' cannot be converted into float data type; and vice-versa.\n",
    "def float_or_not(x) :\n",
    "    try:\n",
    "        float(x)\n",
    "    except:\n",
    "        return False\n",
    "    return True\n",
    "\n",
    "# applying the float_or_not function on our feature 'total_sqft', and retreiving the index of the rows having non-float values \n",
    "non_float_values_index = data[~data['total_sqft'].apply(float_or_not)].index.values.tolist()\n",
    "'''\n",
    "printing the data in rows of 'total_sqft' having non-float values \n",
    "to visually understand the variations present in the data representation in the feature.\n",
    "'''\n",
    "for i in non_float_values_index:\n",
    "    print(data['total_sqft'][i])"
   ]
  },
  {
   "cell_type": "markdown",
   "metadata": {},
   "source": [
    "**okay so we can see that threre are the following variations in the data representation for the feature 'total_sqtf :**  \n",
    "\n",
    "    1. in a range delimited by a '-'\n",
    "    2. in 'Sq. Meter'\n",
    "    3. in 'Perch'\n",
    "    4. in 'Sq. yards'\n",
    "    5. in 'Acres'\n",
    "    6. in 'Grounds'\n",
    "    7. in 'Guntha'\n",
    "    8. in  'Cents'\n",
    "    \n",
    "**We need to transform these string values to float value; and we also need to transform all the values in Sq.ft.**  \n",
    "\n",
    "* 1 Sq.Meter = 10.7639 Sq.feet.\n",
    "* 1 Perch = 272.25 Sq.feet.\n",
    "* 1 Sq.yards = 9 Sq.feet.\n",
    "* 1 Acres = 43560 Sq.feet.\n",
    "* 1 Grounds = 2400 Sq.feet.\n",
    "* 1 Guntha = 1089 Sq.feet.\n",
    "* 1 Cents = 435.6 Sq.feet"
   ]
  },
  {
   "cell_type": "markdown",
   "metadata": {},
   "source": [
    "**okay then let's contruct a function to transform the different representations of the values in the feature 'total_sqft';**   \n",
    "**into float and also in the same unit i.e. <u>'sqft'</u>.** "
   ]
  },
  {
   "cell_type": "code",
   "execution_count": 24,
   "metadata": {},
   "outputs": [],
   "source": [
    "# we willbe taking the a value as an inout which is required to be trnsformed.\n",
    "def float_and_sqft_transformation(value):\n",
    "    # dictionary of possible unit conversions for the feature 'total_sqft'\n",
    "    area_units = {'Sq. Meter': 10.7639,\n",
    "            'Perch': 272.25,\n",
    "            'Sq. yards': 9,\n",
    "            'Acres': 43560,\n",
    "            'Grounds': 2400,\n",
    "            'Guntha': 1089,\n",
    "            'Cents': 435.6}\n",
    "    global value_float\n",
    "    if '-'in value:\n",
    "        values = value.split(\"-\")\n",
    "        if len(values) == 2:\n",
    "            value_float = float((float(values[0]) + float(values[1]))/2)\n",
    "    else:\n",
    "        for i in range(0, len(list(area_units.keys()))):\n",
    "            unit = (list(area_units.keys())[i])\n",
    "            if unit in value:\n",
    "                value_float = (float(value.replace(unit, \"\"))) * area_units[unit]        \n",
    "    return value_float "
   ]
  },
  {
   "cell_type": "code",
   "execution_count": 25,
   "metadata": {},
   "outputs": [
    {
     "name": "stderr",
     "output_type": "stream",
     "text": [
      "C:\\Users\\Tradeoff\\Anaconda3\\lib\\site-packages\\ipykernel_launcher.py:3: SettingWithCopyWarning: \n",
      "A value is trying to be set on a copy of a slice from a DataFrame\n",
      "\n",
      "See the caveats in the documentation: http://pandas.pydata.org/pandas-docs/stable/indexing.html#indexing-view-versus-copy\n",
      "  This is separate from the ipykernel package so we can avoid doing imports until\n"
     ]
    }
   ],
   "source": [
    "# applying the float_and_sqft_transformation to our feature 'total_sqft'\n",
    "for index in non_float_values_index:\n",
    "    data['total_sqft'][index] = float_and_sqft_transformation(data['total_sqft'][index])"
   ]
  },
  {
   "cell_type": "code",
   "execution_count": 26,
   "metadata": {},
   "outputs": [
    {
     "data": {
      "text/plain": [
       "dtype('O')"
      ]
     },
     "execution_count": 26,
     "metadata": {},
     "output_type": "execute_result"
    }
   ],
   "source": [
    "# checking the data type of the values in the feature 'total_sqft'\n",
    "(data.total_sqft).dtype"
   ]
  },
  {
   "cell_type": "code",
   "execution_count": 27,
   "metadata": {},
   "outputs": [],
   "source": [
    "# changing the data type of the values in feature 'total_sqft' to float\n",
    "data['total_sqft'] = pd.to_numeric(data['total_sqft'], errors='ignore', downcast='float')"
   ]
  },
  {
   "cell_type": "code",
   "execution_count": 28,
   "metadata": {},
   "outputs": [
    {
     "data": {
      "text/html": [
       "<div>\n",
       "<style scoped>\n",
       "    .dataframe tbody tr th:only-of-type {\n",
       "        vertical-align: middle;\n",
       "    }\n",
       "\n",
       "    .dataframe tbody tr th {\n",
       "        vertical-align: top;\n",
       "    }\n",
       "\n",
       "    .dataframe thead th {\n",
       "        text-align: right;\n",
       "    }\n",
       "</style>\n",
       "<table border=\"1\" class=\"dataframe\">\n",
       "  <thead>\n",
       "    <tr style=\"text-align: right;\">\n",
       "      <th></th>\n",
       "      <th>area_type</th>\n",
       "      <th>availability</th>\n",
       "      <th>location</th>\n",
       "      <th>size</th>\n",
       "      <th>society</th>\n",
       "      <th>total_sqft</th>\n",
       "      <th>bath</th>\n",
       "      <th>balcony</th>\n",
       "      <th>price</th>\n",
       "    </tr>\n",
       "  </thead>\n",
       "  <tbody>\n",
       "    <tr>\n",
       "      <th>0</th>\n",
       "      <td>Super built-up  Area</td>\n",
       "      <td>19-Dec</td>\n",
       "      <td>Electronic City Phase II</td>\n",
       "      <td>2 BHK</td>\n",
       "      <td>Coomee</td>\n",
       "      <td>1056.0</td>\n",
       "      <td>2.0</td>\n",
       "      <td>1.0</td>\n",
       "      <td>39.07</td>\n",
       "    </tr>\n",
       "    <tr>\n",
       "      <th>1</th>\n",
       "      <td>Plot  Area</td>\n",
       "      <td>Ready To Move</td>\n",
       "      <td>Chikka Tirupathi</td>\n",
       "      <td>4 Bedroom</td>\n",
       "      <td>Theanmp</td>\n",
       "      <td>2600.0</td>\n",
       "      <td>5.0</td>\n",
       "      <td>3.0</td>\n",
       "      <td>120.00</td>\n",
       "    </tr>\n",
       "    <tr>\n",
       "      <th>2</th>\n",
       "      <td>Built-up  Area</td>\n",
       "      <td>Ready To Move</td>\n",
       "      <td>Uttarahalli</td>\n",
       "      <td>3 BHK</td>\n",
       "      <td>NaN</td>\n",
       "      <td>1440.0</td>\n",
       "      <td>2.0</td>\n",
       "      <td>3.0</td>\n",
       "      <td>62.00</td>\n",
       "    </tr>\n",
       "    <tr>\n",
       "      <th>3</th>\n",
       "      <td>Super built-up  Area</td>\n",
       "      <td>Ready To Move</td>\n",
       "      <td>Lingadheeranahalli</td>\n",
       "      <td>3 BHK</td>\n",
       "      <td>Soiewre</td>\n",
       "      <td>1521.0</td>\n",
       "      <td>3.0</td>\n",
       "      <td>1.0</td>\n",
       "      <td>95.00</td>\n",
       "    </tr>\n",
       "    <tr>\n",
       "      <th>4</th>\n",
       "      <td>Super built-up  Area</td>\n",
       "      <td>Ready To Move</td>\n",
       "      <td>Kothanur</td>\n",
       "      <td>2 BHK</td>\n",
       "      <td>NaN</td>\n",
       "      <td>1200.0</td>\n",
       "      <td>2.0</td>\n",
       "      <td>1.0</td>\n",
       "      <td>51.00</td>\n",
       "    </tr>\n",
       "  </tbody>\n",
       "</table>\n",
       "</div>"
      ],
      "text/plain": [
       "              area_type   availability                  location       size  \\\n",
       "0  Super built-up  Area         19-Dec  Electronic City Phase II      2 BHK   \n",
       "1            Plot  Area  Ready To Move          Chikka Tirupathi  4 Bedroom   \n",
       "2        Built-up  Area  Ready To Move               Uttarahalli      3 BHK   \n",
       "3  Super built-up  Area  Ready To Move        Lingadheeranahalli      3 BHK   \n",
       "4  Super built-up  Area  Ready To Move                  Kothanur      2 BHK   \n",
       "\n",
       "   society  total_sqft  bath  balcony   price  \n",
       "0  Coomee       1056.0   2.0      1.0   39.07  \n",
       "1  Theanmp      2600.0   5.0      3.0  120.00  \n",
       "2      NaN      1440.0   2.0      3.0   62.00  \n",
       "3  Soiewre      1521.0   3.0      1.0   95.00  \n",
       "4      NaN      1200.0   2.0      1.0   51.00  "
      ]
     },
     "execution_count": 28,
     "metadata": {},
     "output_type": "execute_result"
    }
   ],
   "source": [
    "data.head()"
   ]
  },
  {
   "cell_type": "markdown",
   "metadata": {},
   "source": [
    "**Now let's re-check the data types of our features.**  "
   ]
  },
  {
   "cell_type": "code",
   "execution_count": 29,
   "metadata": {},
   "outputs": [
    {
     "data": {
      "text/plain": [
       "area_type        object\n",
       "availability     object\n",
       "location         object\n",
       "size             object\n",
       "society          object\n",
       "total_sqft      float32\n",
       "bath            float64\n",
       "balcony         float64\n",
       "price           float64\n",
       "dtype: object"
      ]
     },
     "execution_count": 29,
     "metadata": {},
     "output_type": "execute_result"
    }
   ],
   "source": [
    "data.dtypes"
   ]
  },
  {
   "cell_type": "markdown",
   "metadata": {},
   "source": [
    "**Dropping the feature called <u>'society'</u>; because it won't be adding value to our analysis.**  \n",
    "**This is due to the fact that, we have incomplete information related to that feature; and even if we wanted to use it we will have to look for additional data regarding the various societies through which we could define and score the societies based on those extra data points.**  "
   ]
  },
  {
   "cell_type": "code",
   "execution_count": 30,
   "metadata": {},
   "outputs": [
    {
     "data": {
      "text/html": [
       "<div>\n",
       "<style scoped>\n",
       "    .dataframe tbody tr th:only-of-type {\n",
       "        vertical-align: middle;\n",
       "    }\n",
       "\n",
       "    .dataframe tbody tr th {\n",
       "        vertical-align: top;\n",
       "    }\n",
       "\n",
       "    .dataframe thead th {\n",
       "        text-align: right;\n",
       "    }\n",
       "</style>\n",
       "<table border=\"1\" class=\"dataframe\">\n",
       "  <thead>\n",
       "    <tr style=\"text-align: right;\">\n",
       "      <th></th>\n",
       "      <th>area_type</th>\n",
       "      <th>availability</th>\n",
       "      <th>location</th>\n",
       "      <th>size</th>\n",
       "      <th>total_sqft</th>\n",
       "      <th>bath</th>\n",
       "      <th>balcony</th>\n",
       "      <th>price</th>\n",
       "    </tr>\n",
       "  </thead>\n",
       "  <tbody>\n",
       "    <tr>\n",
       "      <th>0</th>\n",
       "      <td>Super built-up  Area</td>\n",
       "      <td>19-Dec</td>\n",
       "      <td>Electronic City Phase II</td>\n",
       "      <td>2 BHK</td>\n",
       "      <td>1056.0</td>\n",
       "      <td>2.0</td>\n",
       "      <td>1.0</td>\n",
       "      <td>39.07</td>\n",
       "    </tr>\n",
       "    <tr>\n",
       "      <th>1</th>\n",
       "      <td>Plot  Area</td>\n",
       "      <td>Ready To Move</td>\n",
       "      <td>Chikka Tirupathi</td>\n",
       "      <td>4 Bedroom</td>\n",
       "      <td>2600.0</td>\n",
       "      <td>5.0</td>\n",
       "      <td>3.0</td>\n",
       "      <td>120.00</td>\n",
       "    </tr>\n",
       "    <tr>\n",
       "      <th>2</th>\n",
       "      <td>Built-up  Area</td>\n",
       "      <td>Ready To Move</td>\n",
       "      <td>Uttarahalli</td>\n",
       "      <td>3 BHK</td>\n",
       "      <td>1440.0</td>\n",
       "      <td>2.0</td>\n",
       "      <td>3.0</td>\n",
       "      <td>62.00</td>\n",
       "    </tr>\n",
       "    <tr>\n",
       "      <th>3</th>\n",
       "      <td>Super built-up  Area</td>\n",
       "      <td>Ready To Move</td>\n",
       "      <td>Lingadheeranahalli</td>\n",
       "      <td>3 BHK</td>\n",
       "      <td>1521.0</td>\n",
       "      <td>3.0</td>\n",
       "      <td>1.0</td>\n",
       "      <td>95.00</td>\n",
       "    </tr>\n",
       "    <tr>\n",
       "      <th>4</th>\n",
       "      <td>Super built-up  Area</td>\n",
       "      <td>Ready To Move</td>\n",
       "      <td>Kothanur</td>\n",
       "      <td>2 BHK</td>\n",
       "      <td>1200.0</td>\n",
       "      <td>2.0</td>\n",
       "      <td>1.0</td>\n",
       "      <td>51.00</td>\n",
       "    </tr>\n",
       "  </tbody>\n",
       "</table>\n",
       "</div>"
      ],
      "text/plain": [
       "              area_type   availability                  location       size  \\\n",
       "0  Super built-up  Area         19-Dec  Electronic City Phase II      2 BHK   \n",
       "1            Plot  Area  Ready To Move          Chikka Tirupathi  4 Bedroom   \n",
       "2        Built-up  Area  Ready To Move               Uttarahalli      3 BHK   \n",
       "3  Super built-up  Area  Ready To Move        Lingadheeranahalli      3 BHK   \n",
       "4  Super built-up  Area  Ready To Move                  Kothanur      2 BHK   \n",
       "\n",
       "   total_sqft  bath  balcony   price  \n",
       "0      1056.0   2.0      1.0   39.07  \n",
       "1      2600.0   5.0      3.0  120.00  \n",
       "2      1440.0   2.0      3.0   62.00  \n",
       "3      1521.0   3.0      1.0   95.00  \n",
       "4      1200.0   2.0      1.0   51.00  "
      ]
     },
     "execution_count": 30,
     "metadata": {},
     "output_type": "execute_result"
    }
   ],
   "source": [
    "data.drop(\"society\", axis = 1, inplace = True)\n",
    "data.head()"
   ]
  },
  {
   "cell_type": "markdown",
   "metadata": {},
   "source": [
    "**Okay, now let's explore and clean the feature 'size'.**"
   ]
  },
  {
   "cell_type": "code",
   "execution_count": 31,
   "metadata": {},
   "outputs": [
    {
     "data": {
      "text/plain": [
       "array(['2 BHK', '4 Bedroom', '3 BHK', '4 BHK', '6 Bedroom', '3 Bedroom',\n",
       "       '1 BHK', '1 RK', '1 Bedroom', '8 Bedroom', '2 Bedroom',\n",
       "       '7 Bedroom', '5 BHK', '7 BHK', '6 BHK', '5 Bedroom', '11 BHK',\n",
       "       '9 BHK', nan, '9 Bedroom', '27 BHK', '10 Bedroom', '11 Bedroom',\n",
       "       '10 BHK', '19 BHK', '16 BHK', '43 Bedroom', '14 BHK', '8 BHK',\n",
       "       '12 Bedroom', '13 BHK', '18 Bedroom'], dtype=object)"
      ]
     },
     "execution_count": 31,
     "metadata": {},
     "output_type": "execute_result"
    }
   ],
   "source": [
    "data['size'].unique()"
   ]
  },
  {
   "cell_type": "markdown",
   "metadata": {},
   "source": [
    "**As we can clearly see that, it has mixed representation of the values; i.e. in numeric and string values.**\n",
    "**Let's convert them to only numeric values.**"
   ]
  },
  {
   "cell_type": "code",
   "execution_count": 32,
   "metadata": {},
   "outputs": [],
   "source": [
    "# first converting the 'nan' string values to 'numpy.nan' values; to efficiently filter the feature.\n",
    "data['size'].replace(to_replace = 'nan', value = np.nan, inplace = True)"
   ]
  },
  {
   "cell_type": "code",
   "execution_count": null,
   "metadata": {},
   "outputs": [],
   "source": [
    "'''\n",
    "If the value == numpy.nan, \n",
    "we are going to keep it that way only,\n",
    "in order to address this issue later in the data cleaning process.\n",
    "\n",
    "If the data-type of a value is 'float' or 'int', \n",
    "we are going to keep it unaltered, \n",
    "as it is in-line with our desired outcome for this feature.\n",
    "'''\n",
    "for i in range(0, len(data)):\n",
    "    if data['size'][i] != np.nan and type(data['size'][i]) != float and type(data['size'][i]) != int:\n",
    "         data.at['size', i] = int((data['size'][i]).split(' ')[0])"
   ]
  },
  {
   "cell_type": "code",
   "execution_count": null,
   "metadata": {},
   "outputs": [],
   "source": [
    "# changing the data type of the values in feature 'total_sqft' to integer\n",
    "data['size'] = pd.to_numeric(data['size'], errors='ignore', downcast='integer')\n",
    "data['size'].dtype"
   ]
  },
  {
   "cell_type": "markdown",
   "metadata": {},
   "source": [
    "**Now let's explore the feature 'bath' for any anomaly in the data representation.**"
   ]
  },
  {
   "cell_type": "code",
   "execution_count": null,
   "metadata": {},
   "outputs": [],
   "source": [
    "data['bath'].unique()"
   ]
  },
  {
   "cell_type": "markdown",
   "metadata": {},
   "source": [
    "**We can observe from above that some of the value(s) in this feature is not an integer;**  \n",
    "**the problem with that is; the number of bathrooms in an apartment/house cannot be logically defined in decimals;**  \n",
    "**i.e. it can only be defined in an integer.**  \n",
    "\n",
    "**Due to the fact that there is only one value in this feature that is represented as a decimal number;**  \n",
    "**we can associate this error as a data-entry error.**\n",
    "\n",
    "**So let's just round-up the values in this feature, and convert the data type to integer.**  \n",
    "**Doing so will transform the data representation to the correct form and also there will be no information loss as we are not discarding the inconsistent entry in the feature.**"
   ]
  },
  {
   "cell_type": "code",
   "execution_count": null,
   "metadata": {},
   "outputs": [],
   "source": [
    "# rounding-up and then changing the data type if it is not NaN.\n",
    "for i in range(0, len(data)):\n",
    "    if data.at['bath', i] != np.nan :\n",
    "        data.at['bath', i] = data['bath'].round(0).astype(int)"
   ]
  },
  {
   "cell_type": "code",
   "execution_count": null,
   "metadata": {},
   "outputs": [],
   "source": [
    "# let's re-check the data representation in this feature to ensure our operation on it was successful. \n",
    "data['bath'].unique()"
   ]
  },
  {
   "cell_type": "markdown",
   "metadata": {},
   "source": [
    "**Okay now let's explore the feature 'balcony' for any anomaly in the data representation.**"
   ]
  },
  {
   "cell_type": "code",
   "execution_count": null,
   "metadata": {},
   "outputs": [],
   "source": [
    "data['balcony'].unique()"
   ]
  },
  {
   "cell_type": "markdown",
   "metadata": {},
   "source": [
    "**Okay so we can observe the same problem exists in this feature also, as it was found for the data representation in the feature 'bath'.**   \n",
    "**Hence we will handle this issue in the exactly same manner as we did above.**  "
   ]
  },
  {
   "cell_type": "code",
   "execution_count": null,
   "metadata": {},
   "outputs": [],
   "source": [
    "# rounding0up and then changing the data type\n",
    "data['balcony'] = data['balcony'].round(0).astype(int)"
   ]
  },
  {
   "cell_type": "code",
   "execution_count": null,
   "metadata": {},
   "outputs": [],
   "source": [
    "# let's re-check the data representation in this feature i=to ensure our operation on it was successful. \n",
    "data['balcony'].unique()"
   ]
  },
  {
   "cell_type": "code",
   "execution_count": null,
   "metadata": {},
   "outputs": [],
   "source": [
    "data.head(10)"
   ]
  },
  {
   "cell_type": "markdown",
   "metadata": {},
   "source": [
    "**Now let's explore the feature 'area_type'.**"
   ]
  },
  {
   "cell_type": "code",
   "execution_count": null,
   "metadata": {},
   "outputs": [],
   "source": [
    "data['area_type'].unique()"
   ]
  },
  {
   "cell_type": "markdown",
   "metadata": {},
   "source": [
    "**Okay so the area mentioned in each of the instance of our housing data, is represented in the followwing types -**  \n",
    "\n",
    "* Carpet Area\n",
    "* Plot Area\n",
    "* Built-up Area\n",
    "* Super built-up Area.\n",
    "\n",
    "**So this means that the representation of values in the feature 'total_sqft' is not uniform.**  \n",
    "**What we can do about this issue is, we can convert all the area_types into one or multiple area type vlues but being uniform internally in their representation.**  \n",
    "\n",
    "**Let's see the relation between these four types of representation of area type of an apartment/house -**   \n",
    "**( According to <u>Housing.com</u>, ( source = https://housing.com/news/real-estate-basics-part-1-carpet-area-built-up-area-super-built-up-area/ ))**\n",
    "\n",
    "* **<u>Carpet Area</u>** - **It is the area that can actually be covered by a carpet, or the area of the apartment excluding the thickness of inner walls.** Carpet area does not include the space covered by common areas such as lobby, lift, stairs, play area, etc. Carpet area is the actual area you get for use in a housing unit. **Carpet area is usually around 70% of the built-up area**. \n",
    "\n",
    "\n",
    "* **<u>Built-up Area</u>** - **It is the area that comes after adding carpet area and wall area.** The wall area means the thickness of the inner walls of a unit. **The area constituting the walls is around 20% of the built-up area. The built-up area also consists of other areas mandated by the authorities, such as a dry balcony, flower beds, etc., that add up to 10% of the built-up area.** So the usable area is only 70% of the built-up area.\n",
    "\n",
    "\n",
    "* **<u>Super bult-up Area</u>** - **It is the area calculated by adding the built-up area and common area that includes the corridor, lift lobby, lift, etc.** In some cases, builders even include amenities such as a pool, garden and clubhouse in the common area. **A developer/builder charges you on the basis of the super built-up area which is why it is also known as ‘saleable’ area.**\n",
    "\n",
    "\n",
    "* **<u>Plot Area</u>** - **It is the total area of the plot on which the building has been constructed.**\n",
    "\n",
    "\n",
    "**So we can summarize the above relationships as follows -**\n",
    "* Carpet Area = 70% of Built-up Area\n",
    "* Built-up Area = Carpet Aarea + 30% of Carpet Area\n",
    "* Super Built-up Area = Built-up Area + 1.25 as a 'loading factor' of the common spaces in the plot that is shared by all.\n",
    "                   = (Carpet Aarea + 30% of Carpet Area) + 1.25 as a loadng factor.  \n",
    "    \n",
    "**So we will be converting the Carpet Area and Built-up Area into Super Built-up Area, because of the fact that the price of the unit represents the price for the Super Built-up Area.**   \n",
    "                    \n",
    "**PLot Area cannot be converted into any of the above three types of area representation, due to the fact that they are not meant for representing the same thing; so this issue will be resolved by discarding the instances in our feaure that contain the area_type of Plot Area.**\n"
   ]
  },
  {
   "cell_type": "code",
   "execution_count": null,
   "metadata": {},
   "outputs": [],
   "source": [
    "for index_no in range(0, len(data)):\n",
    "    if data['area_type'][index_no] == 'Carpet Area':\n",
    "        data.at['total_sqft', index_no] = (data['total_sqft'][index_no] + (0.3 * data['total_sqft'][index_no])) + (data['total_sqft'][index_no] * 0.25)    # if area type is Built-up Area\n",
    "    elif data['area_type'][index_no] == 'Built-up Area':\n",
    "        data.at['total_sqft', index_no] = (data['total_sqft'][index_no]) + (data['total_sqft'][index_no] * 0.25)\n",
    "    elif data['area_type'][index_no] == 'Plot  Area': \n",
    "        data.at['total_sqft', index_no] = np.nan\n",
    "    else :\n",
    "        data.at['total_sqft', index_no] = data['total_sqft'][index_no]\n",
    "        "
   ]
  },
  {
   "cell_type": "code",
   "execution_count": null,
   "metadata": {},
   "outputs": [],
   "source": [
    "data.head(20)"
   ]
  },
  {
   "cell_type": "code",
   "execution_count": null,
   "metadata": {},
   "outputs": [],
   "source": [
    "# geopy for getting the geographical latitudes and longitudes of a location\n",
    "import geopy\n",
    "# Now lets import 'Nominatim' from geopy to convert an address into latitude and longitude values.\n",
    "from geopy.geocoders import Nominatim"
   ]
  },
  {
   "cell_type": "code",
   "execution_count": null,
   "metadata": {},
   "outputs": [],
   "source": [
    "keys = ['Neighborhood', 'Latitude', 'Longitude']  #kkeys of our dictionary to contain the lat-long data of the localities.\n",
    "coordinates_dict = dict.fromkeys(keys)\n",
    "\n",
    "neigh_list = []  # empty list\n",
    "lat_list = []    # empty list\n",
    "long_list = []   # empty list\n",
    "\n",
    "geolocator = Nominatim(user_agent=\"Bangalore_area_lat_long\")\n",
    "\n",
    "for locality in data['location'].unique() :\n",
    "    area = geolocator.geocode(\"{}\".format(locality), timeout = 2)\n",
    "    if area is not None :\n",
    "        lat = area.latitude\n",
    "        long = area.longitude\n",
    "        neigh_list.append(locality) \n",
    "        lat_list.append(lat)\n",
    "        long_list.append(long)\n",
    "    else:\n",
    "        neigh_list.append(locality)\n",
    "        lat_list.append(np.nan)\n",
    "        long_list.append(np.nan)\n",
    "coordinates_dict.update(Neighborhood = neigh_list, Latitude = lat_list, Longitude = long_list)"
   ]
  },
  {
   "cell_type": "code",
   "execution_count": null,
   "metadata": {},
   "outputs": [],
   "source": [
    "coordinates = pd.DataFrame(coordinates_dict)\n",
    "coordinates.head()"
   ]
  },
  {
   "cell_type": "code",
   "execution_count": null,
   "metadata": {},
   "outputs": [],
   "source": [
    "coordinates['Latitude'].isnull().sum()"
   ]
  },
  {
   "cell_type": "markdown",
   "metadata": {},
   "source": [
    "**Okay so we have some rows in the column <u>Latitude</u> and <u>Longitude</u> containing <u>NaN</u> values as the geopy could not recognize those locality names which is because those localities are absent in the library of geopy; so lets drop those rows from our final data.**"
   ]
  },
  {
   "cell_type": "code",
   "execution_count": null,
   "metadata": {},
   "outputs": [],
   "source": [
    "(coordinates.shape)  # shape of our data BEFORE droping the above mentioned rows.\n",
    "coordinates.dropna(axis = 0, how ='any', inplace = True)\n",
    "(coordinates.shape)  # shape of our data AFTER droping the above mentioned rows."
   ]
  },
  {
   "cell_type": "markdown",
   "metadata": {},
   "source": [
    "**Merging the two datframes: <i>data</i> & <i>coordinated</i> to make our <i>final_data</i> dataframe.**"
   ]
  },
  {
   "cell_type": "code",
   "execution_count": null,
   "metadata": {},
   "outputs": [],
   "source": [
    "final_data = pd.merge(data, coordinates, on='locality_name')\n",
    "final_data.head()"
   ]
  },
  {
   "cell_type": "markdown",
   "metadata": {},
   "source": [
    "# Handling missing values in our features."
   ]
  },
  {
   "cell_type": "markdown",
   "metadata": {},
   "source": [
    "**Let's count the number of missing values in each feture of our data.**"
   ]
  },
  {
   "cell_type": "code",
   "execution_count": null,
   "metadata": {},
   "outputs": [],
   "source": [
    "data.isnull().sum()"
   ]
  },
  {
   "cell_type": "markdown",
   "metadata": {},
   "source": [
    "**Let's visualize the missing values in our data.**"
   ]
  },
  {
   "cell_type": "code",
   "execution_count": null,
   "metadata": {},
   "outputs": [],
   "source": [
    "!{sys.executable} -m pip install missingno\n",
    "import missingno as msno"
   ]
  },
  {
   "cell_type": "code",
   "execution_count": null,
   "metadata": {},
   "outputs": [],
   "source": [
    "msno.matrix(data)"
   ]
  },
  {
   "cell_type": "markdown",
   "metadata": {},
   "source": [
    "**Clearly we can see that missing values are present in the following features -**  \n",
    "    location : 1 missing value  \n",
    "    size : 16 missing values  \n",
    "    bath : 73 missing values  \n",
    "    balcony : 609 missing values  \n",
    "\n",
    "**We will be using two strategies based on the data type in a particular feature,**  \n",
    "**for the imputation of these missing values.**"
   ]
  },
  {
   "cell_type": "code",
   "execution_count": null,
   "metadata": {},
   "outputs": [],
   "source": [
    "# imputing the missing value in the feature 'location' with the mode, as it is a categorical feature\n",
    "data[\"location\"].fillna(data[\"location\"].mode()[0],inplace=True)\n",
    "print('The number of missing values in the feature after imputation using the \"mode\" are: {}'.format((data['location']).isnull().sum()))"
   ]
  },
  {
   "cell_type": "code",
   "execution_count": null,
   "metadata": {},
   "outputs": [],
   "source": [
    "# importing the required library for this operation\n",
    "from sklearn.impute import SimpleImputer\n",
    "# imputing the missing values in the rest of the features with the 'mean', as they are numerical features.\n",
    "num_imputer =  SimpleImputer(missing_values=np.nan, strategy=\"mean\")\n",
    "\n",
    "num_imputer_size = num_imputer.fit(data[['size']])\n",
    "data['size'] = num_imputer_size.transform(data[['size']])\n",
    "\n",
    "num_imputer_bath = num_imputer.fit(data[['bath']])\n",
    "data['bath'] = num_imputer_bath.transform(data[['bath']])\n",
    "\n",
    "num_imputer_balcony = num_imputer.fit(data[['balcony']])\n",
    "data['balcony'] = num_imputer_balcony.transform(data[['balcony']])\n",
    "\n",
    "data.isnull().sum()"
   ]
  },
  {
   "cell_type": "code",
   "execution_count": null,
   "metadata": {},
   "outputs": [],
   "source": [
    "msno.matrix(data)"
   ]
  },
  {
   "cell_type": "markdown",
   "metadata": {},
   "source": [
    "# Outlier detection and imptation"
   ]
  },
  {
   "cell_type": "markdown",
   "metadata": {},
   "source": [
    "**Using business logic to recognise anomalies in the data.**"
   ]
  },
  {
   "cell_type": "markdown",
   "metadata": {},
   "source": [
    "**Let's check the distribution of area in sqft held out for 1bhk for the apartments.**"
   ]
  },
  {
   "cell_type": "code",
   "execution_count": null,
   "metadata": {},
   "outputs": [],
   "source": [
    "area_under_1bhk = []\n",
    "for i in range(o, len(data)):\n",
    "    area = data['total_sqft'][i] / data['']"
   ]
  },
  {
   "cell_type": "code",
   "execution_count": null,
   "metadata": {},
   "outputs": [],
   "source": [
    "data['area_type'].unique()"
   ]
  },
  {
   "cell_type": "code",
   "execution_count": null,
   "metadata": {},
   "outputs": [],
   "source": []
  },
  {
   "cell_type": "code",
   "execution_count": null,
   "metadata": {},
   "outputs": [],
   "source": []
  },
  {
   "cell_type": "code",
   "execution_count": null,
   "metadata": {},
   "outputs": [],
   "source": []
  },
  {
   "cell_type": "code",
   "execution_count": null,
   "metadata": {},
   "outputs": [],
   "source": []
  },
  {
   "cell_type": "code",
   "execution_count": null,
   "metadata": {},
   "outputs": [],
   "source": []
  },
  {
   "cell_type": "code",
   "execution_count": null,
   "metadata": {},
   "outputs": [],
   "source": []
  },
  {
   "cell_type": "code",
   "execution_count": null,
   "metadata": {},
   "outputs": [],
   "source": []
  },
  {
   "cell_type": "code",
   "execution_count": null,
   "metadata": {},
   "outputs": [],
   "source": []
  },
  {
   "cell_type": "code",
   "execution_count": null,
   "metadata": {},
   "outputs": [],
   "source": []
  },
  {
   "cell_type": "code",
   "execution_count": null,
   "metadata": {},
   "outputs": [],
   "source": []
  },
  {
   "cell_type": "code",
   "execution_count": null,
   "metadata": {},
   "outputs": [],
   "source": []
  },
  {
   "cell_type": "code",
   "execution_count": null,
   "metadata": {},
   "outputs": [],
   "source": []
  },
  {
   "cell_type": "code",
   "execution_count": null,
   "metadata": {},
   "outputs": [],
   "source": []
  },
  {
   "cell_type": "code",
   "execution_count": null,
   "metadata": {},
   "outputs": [],
   "source": []
  },
  {
   "cell_type": "code",
   "execution_count": null,
   "metadata": {},
   "outputs": [],
   "source": []
  },
  {
   "cell_type": "code",
   "execution_count": null,
   "metadata": {},
   "outputs": [],
   "source": []
  },
  {
   "cell_type": "code",
   "execution_count": null,
   "metadata": {},
   "outputs": [],
   "source": []
  },
  {
   "cell_type": "code",
   "execution_count": null,
   "metadata": {},
   "outputs": [],
   "source": []
  },
  {
   "cell_type": "code",
   "execution_count": null,
   "metadata": {},
   "outputs": [],
   "source": []
  },
  {
   "cell_type": "code",
   "execution_count": null,
   "metadata": {},
   "outputs": [],
   "source": []
  },
  {
   "cell_type": "code",
   "execution_count": null,
   "metadata": {},
   "outputs": [],
   "source": []
  },
  {
   "cell_type": "code",
   "execution_count": null,
   "metadata": {},
   "outputs": [],
   "source": []
  },
  {
   "cell_type": "code",
   "execution_count": null,
   "metadata": {},
   "outputs": [],
   "source": []
  },
  {
   "cell_type": "code",
   "execution_count": null,
   "metadata": {},
   "outputs": [],
   "source": []
  },
  {
   "cell_type": "code",
   "execution_count": null,
   "metadata": {},
   "outputs": [],
   "source": []
  },
  {
   "cell_type": "code",
   "execution_count": null,
   "metadata": {},
   "outputs": [],
   "source": []
  },
  {
   "cell_type": "code",
   "execution_count": null,
   "metadata": {},
   "outputs": [],
   "source": []
  },
  {
   "cell_type": "code",
   "execution_count": null,
   "metadata": {},
   "outputs": [],
   "source": [
    "'''\n",
    "Function: print_quantile_info(qu_dataset, qu_field)\n",
    "Print out the following information about the data\n",
    "   - interquartile range\n",
    "   - upper_inner_fence\n",
    "   - lower_inner_fence\n",
    "   - upper_outer_fence\n",
    "   - lower_outer_fence\n",
    "   - percentage of records out of inner fences\n",
    "   - percentage of records out of outer fences\n",
    " Input: \n",
    "   - pandas dataframe (qu_dataset)\n",
    "   - name of the column to analyze (qu_field)\n",
    " Output:\n",
    "   None\n",
    "'''\n",
    "\n",
    "def TUKEY_outlier_detector(dataset, feature):\n",
    "    a = dataset[feature].describe()\n",
    "    \n",
    "    q3 = a[\"75%\"]\n",
    "    q1 = a[\"25%\"]\n",
    "    \n",
    "    iqr = q3 - q1\n",
    "    print(\"interquartile range:\", iqr)\n",
    "    \n",
    "    upper_inner_fence = q3 + 1.5 * iqr\n",
    "    lower_inner_fence = q1 - 1.5 * iqr\n",
    "    print(\"upper_inner_fence:\", upper_inner_fence)\n",
    "    print(\"lower_inner_fence:\", lower_inner_fence)\n",
    "    \n",
    "    upper_outer_fence = q3 + 3 * iqr\n",
    "    lower_outer_fence = q1 - 3 * iqr\n",
    "    print(\"upper_outer_fence:\", upper_outer_fence)\n",
    "    print(\"lower_outer_fence:\", lower_outer_fence)\n",
    "    \n",
    "    count_over_upper = len(qu_dataset[qu_dataset[qu_field]>upper_inner_fence])\n",
    "    count_under_lower = len(qu_dataset[qu_dataset[qu_field]<lower_inner_fence])\n",
    "    percentage = 100 * (count_under_lower + count_over_upper) / a[\"count\"]\n",
    "    print(\"percentage of records out of inner fences for \"  +qu_field+ \" is: %.2f\"% (percentage))\n",
    "    \n",
    "    count_over_upper = len(qu_dataset[qu_dataset[qu_field]>upper_outer_fence])\n",
    "    count_under_lower = len(qu_dataset[qu_dataset[qu_field]<lower_outer_fence])\n",
    "    percentage = 100 * (count_under_lower + count_over_upper) / a[\"count\"]\n",
    "    print(\"percentage of records out of outer fences for \"  +qu_field+ \" is: %.2f\"% (percentage))\n",
    "    \n",
    "'''  \n",
    "Function: remove_outliers_using_quantiles(qu_dataset, qu_field, qu_fence)\n",
    "   1- Remove outliers according to the given fence value and return new dataframe.\n",
    "   2- Print out the following information about the data\n",
    "      - interquartile range\n",
    "      - upper_inner_fence\n",
    "      - lower_inner_fence\n",
    "      - upper_outer_fence\n",
    "      - lower_outer_fence\n",
    "      - percentage of records out of inner fences\n",
    "      - percentage of records out of outer fences\n",
    " Input: \n",
    "   - pandas dataframe (qu_dataset)\n",
    "   - name of the column to analyze (qu_field)\n",
    "   - inner (1.5*iqr) or outer (3.0*iqr) (qu_fence) values: \"inner\" or \"outer\"\n",
    " Output:\n",
    "   - new pandas dataframe (output_dataset)\n",
    "'''\n",
    "def TUKEY_outlier_remover(qu_dataset, qu_field, qu_fence):\n",
    "    a = qu_dataset[qu_field].describe()\n",
    "    \n",
    "    q3 = a[\"75%\"]\n",
    "    q1 = a[\"25%\"]\n",
    "    \n",
    "    iqr = q3 - q1\n",
    "    print(\"interquartile range:\", iqr)\n",
    "    \n",
    "    upper_inner_fence = q3 + 1.5 * iqr\n",
    "    lower_inner_fence = q1 - 1.5 * iqr\n",
    "    print(\"upper_inner_fence:\", upper_inner_fence)\n",
    "    print(\"lower_inner_fence:\", lower_inner_fence)\n",
    "    \n",
    "    upper_outer_fence = q3 + 3 * iqr\n",
    "    lower_outer_fence = q1 - 3 * iqr\n",
    "    print(\"upper_outer_fence:\", upper_outer_fence)\n",
    "    print(\"lower_outer_fence:\", lower_outer_fence)\n",
    "    \n",
    "    count_over_upper = len(qu_dataset[qu_dataset[qu_field]>upper_inner_fence])\n",
    "    count_under_lower = len(qu_dataset[qu_dataset[qu_field]<lower_inner_fence])\n",
    "    percentage = 100 * (count_under_lower + count_over_upper) / a[\"count\"]\n",
    "    print(\"percentage of records out of inner fences: %.2f\"% (percentage))\n",
    "    \n",
    "    count_over_upper = len(qu_dataset[qu_dataset[qu_field]>upper_outer_fence])\n",
    "    count_under_lower = len(qu_dataset[qu_dataset[qu_field]<lower_outer_fence])\n",
    "    percentage = 100 * (count_under_lower + count_over_upper) / a[\"count\"]\n",
    "    print(\"percentage of records out of outer fences: %.2f\"% (percentage))\n",
    "    \n",
    "    if qu_fence == \"inner\":\n",
    "        output_dataset = qu_dataset[qu_dataset[qu_field]<=upper_inner_fence]\n",
    "        output_dataset = output_dataset[output_dataset[qu_field]>=lower_inner_fence]\n",
    "    elif qu_fence == \"outer\":\n",
    "        output_dataset = qu_dataset[qu_dataset[qu_field]<=upper_outer_fence]\n",
    "        output_dataset = output_dataset[output_dataset[qu_field]>=lower_outer_fence]\n",
    "    else:\n",
    "        output_dataset = qu_dataset\n",
    "    \n",
    "    print(\"length of input dataframe:\", len(qu_dataset))\n",
    "    print(\"length of new dataframe after outlier removal:\", len(output_dataset))\n",
    "    \n",
    "    return output_dataset"
   ]
  },
  {
   "cell_type": "code",
   "execution_count": null,
   "metadata": {},
   "outputs": [],
   "source": [
    "a = data['balcony'].describe()"
   ]
  },
  {
   "cell_type": "code",
   "execution_count": null,
   "metadata": {},
   "outputs": [],
   "source": [
    "q3 = a[\"75%\"]\n",
    "q1 = a[\"25%\"]\n",
    "\n",
    "iqr = q3 - q1\n",
    "print(\"interquartile range:\", iqr)\n",
    "\n",
    "upper_inner_fence = q3 + 1.5 * iqr\n",
    "lower_inner_fence = q1 - 1.5 * iqr\n",
    "print(\"upper_inner_fence:\", upper_inner_fence)\n",
    "print(\"lower_inner_fence:\", lower_inner_fence)\n",
    "\n",
    "upper_outer_fence = q3 + 3 * iqr\n",
    "lower_outer_fence = q1 - 3 * iqr\n",
    "print(\"upper_outer_fence:\", upper_outer_fence)\n",
    "print(\"lower_outer_fence:\", lower_outer_fence)"
   ]
  },
  {
   "cell_type": "code",
   "execution_count": null,
   "metadata": {},
   "outputs": [],
   "source": [
    "count_over_upper = len(data[data['balcony']>upper_inner_fence])\n",
    "count_under_lower = len(data[data['balcony']<lower_inner_fence])\n",
    "percentage = 100 * (count_under_lower + count_over_upper) / a[\"count\"]\n",
    "print(\"percentage of records out of inner fences for balcony feature is: %.2f\"% (percentage))\n",
    "\n",
    "count_over_upper = len(data[data['balcony']>upper_outer_fence])\n",
    "count_under_lower = len(data[data['balcony']<lower_outer_fence])\n",
    "percentage = 100 * (count_under_lower + count_over_upper) / a[\"count\"]\n",
    "print(\"percentage of records out of outer fences for balcony feature is: %.2f\"% (percentage))"
   ]
  },
  {
   "cell_type": "code",
   "execution_count": null,
   "metadata": {},
   "outputs": [],
   "source": [
    "len(data[data['balcony']>upper_inner_fence])"
   ]
  },
  {
   "cell_type": "code",
   "execution_count": null,
   "metadata": {},
   "outputs": [],
   "source": [
    "plt.figure(figsize=(20,10))\n",
    "sns.boxplot(x=data['balcony'], y=data['price'], data=data)\n",
    "plt.xticks(rotation=45, horizontalalignment='right')\n",
    "# plt.xlabel('Transmission types')\n",
    "# plt.ylabel('Co2_emissions')\n",
    "# plt.title('Transmission type frequency distribution with Co2_emissions.')\n",
    "plt.show()"
   ]
  },
  {
   "cell_type": "code",
   "execution_count": null,
   "metadata": {},
   "outputs": [],
   "source": [
    "data.balcony.unique()"
   ]
  },
  {
   "cell_type": "code",
   "execution_count": null,
   "metadata": {},
   "outputs": [],
   "source": [
    "data.bath.unique()"
   ]
  },
  {
   "cell_type": "code",
   "execution_count": null,
   "metadata": {},
   "outputs": [],
   "source": []
  }
 ],
 "metadata": {
  "kernelspec": {
   "display_name": "Python 3",
   "language": "python",
   "name": "python3"
  },
  "language_info": {
   "codemirror_mode": {
    "name": "ipython",
    "version": 3
   },
   "file_extension": ".py",
   "mimetype": "text/x-python",
   "name": "python",
   "nbconvert_exporter": "python",
   "pygments_lexer": "ipython3",
   "version": "3.7.0"
  }
 },
 "nbformat": 4,
 "nbformat_minor": 2
}
